{
 "cells": [
  {
   "cell_type": "code",
   "execution_count": 821,
   "metadata": {},
   "outputs": [],
   "source": [
    "import pandas as pd\n",
    "import os\n",
    "import numpy as np\n",
    "\n",
    "import time\n",
    "from sklearn.pipeline import make_pipeline\n",
    "from sklearn.preprocessing import StandardScaler, MinMaxScaler\n",
    "from sklearn.metrics import mutual_info_score\n",
    "\n",
    "\n",
    "# Plotting\n",
    "import seaborn as sns \n",
    "import matplotlib.pyplot as plt\n",
    "%matplotlib inline\n"
   ]
  },
  {
   "attachments": {},
   "cell_type": "markdown",
   "metadata": {},
   "source": [
    "Since there were no column headers in either excel file, I manually added the column names from the metadata.txt file. There were some extra names in the metadata file which were not present in the csv files, and the order did not exactly match across the metadata.txt and csv files. Therefore, I used the additional information provided in metadata (the number of unique values in each column) and used that to ensure I had the proper column name mapped to each column. I performed this manually in excel."
   ]
  },
  {
   "cell_type": "code",
   "execution_count": 822,
   "metadata": {},
   "outputs": [],
   "source": [
    "learn = pd.read_csv(\"census_income_learn.csv\")"
   ]
  },
  {
   "cell_type": "code",
   "execution_count": 823,
   "metadata": {},
   "outputs": [
    {
     "data": {
      "text/plain": [
       "(199523, 42)"
      ]
     },
     "execution_count": 823,
     "metadata": {},
     "output_type": "execute_result"
    }
   ],
   "source": [
    "learn.shape"
   ]
  },
  {
   "cell_type": "code",
   "execution_count": 824,
   "metadata": {},
   "outputs": [],
   "source": [
    "test = pd.read_csv(\"census_income_test.csv\")"
   ]
  },
  {
   "cell_type": "code",
   "execution_count": 825,
   "metadata": {},
   "outputs": [
    {
     "data": {
      "text/plain": [
       "(99762, 42)"
      ]
     },
     "execution_count": 825,
     "metadata": {},
     "output_type": "execute_result"
    }
   ],
   "source": [
    "test.shape"
   ]
  },
  {
   "cell_type": "code",
   "execution_count": 826,
   "metadata": {},
   "outputs": [
    {
     "data": {
      "text/html": [
       "<div>\n",
       "<style scoped>\n",
       "    .dataframe tbody tr th:only-of-type {\n",
       "        vertical-align: middle;\n",
       "    }\n",
       "\n",
       "    .dataframe tbody tr th {\n",
       "        vertical-align: top;\n",
       "    }\n",
       "\n",
       "    .dataframe thead th {\n",
       "        text-align: right;\n",
       "    }\n",
       "</style>\n",
       "<table border=\"1\" class=\"dataframe\">\n",
       "  <thead>\n",
       "    <tr style=\"text-align: right;\">\n",
       "      <th></th>\n",
       "      <th>age</th>\n",
       "      <th>class_worker</th>\n",
       "      <th>industry_code</th>\n",
       "      <th>occupation_code</th>\n",
       "      <th>education</th>\n",
       "      <th>wage_hour</th>\n",
       "      <th>enrolled_edu</th>\n",
       "      <th>marital_status</th>\n",
       "      <th>maj_industry</th>\n",
       "      <th>maj_occupation</th>\n",
       "      <th>...</th>\n",
       "      <th>father_birthplace</th>\n",
       "      <th>mother_birthplace</th>\n",
       "      <th>self_birthplace</th>\n",
       "      <th>citizenship</th>\n",
       "      <th>own_business</th>\n",
       "      <th>fill_inc_questionnaire</th>\n",
       "      <th>veterans_benefits</th>\n",
       "      <th>weeks_worked</th>\n",
       "      <th>year</th>\n",
       "      <th>dep_var</th>\n",
       "    </tr>\n",
       "  </thead>\n",
       "  <tbody>\n",
       "    <tr>\n",
       "      <th>0</th>\n",
       "      <td>38</td>\n",
       "      <td>Private</td>\n",
       "      <td>6</td>\n",
       "      <td>36</td>\n",
       "      <td>1st 2nd 3rd or 4th grade</td>\n",
       "      <td>0</td>\n",
       "      <td>Not in universe</td>\n",
       "      <td>Married-civilian spouse present</td>\n",
       "      <td>Manufacturing-durable goods</td>\n",
       "      <td>Machine operators assmblrs &amp; inspctrs</td>\n",
       "      <td>...</td>\n",
       "      <td>Mexico</td>\n",
       "      <td>Mexico</td>\n",
       "      <td>Mexico</td>\n",
       "      <td>Foreign born- Not a citizen of U S</td>\n",
       "      <td>0</td>\n",
       "      <td>Not in universe</td>\n",
       "      <td>2</td>\n",
       "      <td>12</td>\n",
       "      <td>95</td>\n",
       "      <td>-50000</td>\n",
       "    </tr>\n",
       "    <tr>\n",
       "      <th>1</th>\n",
       "      <td>44</td>\n",
       "      <td>Self-employed-not incorporated</td>\n",
       "      <td>37</td>\n",
       "      <td>12</td>\n",
       "      <td>Associates degree-occup /vocational</td>\n",
       "      <td>0</td>\n",
       "      <td>Not in universe</td>\n",
       "      <td>Married-civilian spouse present</td>\n",
       "      <td>Business and repair services</td>\n",
       "      <td>Professional specialty</td>\n",
       "      <td>...</td>\n",
       "      <td>United-States</td>\n",
       "      <td>United-States</td>\n",
       "      <td>United-States</td>\n",
       "      <td>Native- Born in the United States</td>\n",
       "      <td>0</td>\n",
       "      <td>Not in universe</td>\n",
       "      <td>2</td>\n",
       "      <td>26</td>\n",
       "      <td>95</td>\n",
       "      <td>-50000</td>\n",
       "    </tr>\n",
       "    <tr>\n",
       "      <th>2</th>\n",
       "      <td>2</td>\n",
       "      <td>Not in universe</td>\n",
       "      <td>0</td>\n",
       "      <td>0</td>\n",
       "      <td>Children</td>\n",
       "      <td>0</td>\n",
       "      <td>Not in universe</td>\n",
       "      <td>Never married</td>\n",
       "      <td>Not in universe or children</td>\n",
       "      <td>Not in universe</td>\n",
       "      <td>...</td>\n",
       "      <td>United-States</td>\n",
       "      <td>United-States</td>\n",
       "      <td>United-States</td>\n",
       "      <td>Native- Born in the United States</td>\n",
       "      <td>0</td>\n",
       "      <td>Not in universe</td>\n",
       "      <td>0</td>\n",
       "      <td>0</td>\n",
       "      <td>95</td>\n",
       "      <td>-50000</td>\n",
       "    </tr>\n",
       "    <tr>\n",
       "      <th>3</th>\n",
       "      <td>35</td>\n",
       "      <td>Private</td>\n",
       "      <td>29</td>\n",
       "      <td>3</td>\n",
       "      <td>High school graduate</td>\n",
       "      <td>0</td>\n",
       "      <td>Not in universe</td>\n",
       "      <td>Divorced</td>\n",
       "      <td>Transportation</td>\n",
       "      <td>Executive admin and managerial</td>\n",
       "      <td>...</td>\n",
       "      <td>United-States</td>\n",
       "      <td>United-States</td>\n",
       "      <td>United-States</td>\n",
       "      <td>Native- Born in the United States</td>\n",
       "      <td>2</td>\n",
       "      <td>Not in universe</td>\n",
       "      <td>2</td>\n",
       "      <td>52</td>\n",
       "      <td>94</td>\n",
       "      <td>-50000</td>\n",
       "    </tr>\n",
       "    <tr>\n",
       "      <th>4</th>\n",
       "      <td>49</td>\n",
       "      <td>Private</td>\n",
       "      <td>4</td>\n",
       "      <td>34</td>\n",
       "      <td>High school graduate</td>\n",
       "      <td>0</td>\n",
       "      <td>Not in universe</td>\n",
       "      <td>Divorced</td>\n",
       "      <td>Construction</td>\n",
       "      <td>Precision production craft &amp; repair</td>\n",
       "      <td>...</td>\n",
       "      <td>United-States</td>\n",
       "      <td>United-States</td>\n",
       "      <td>United-States</td>\n",
       "      <td>Native- Born in the United States</td>\n",
       "      <td>0</td>\n",
       "      <td>Not in universe</td>\n",
       "      <td>2</td>\n",
       "      <td>50</td>\n",
       "      <td>95</td>\n",
       "      <td>-50000</td>\n",
       "    </tr>\n",
       "  </tbody>\n",
       "</table>\n",
       "<p>5 rows × 42 columns</p>\n",
       "</div>"
      ],
      "text/plain": [
       "   age                     class_worker  industry_code  occupation_code  \\\n",
       "0   38                          Private              6               36   \n",
       "1   44   Self-employed-not incorporated             37               12   \n",
       "2    2                  Not in universe              0                0   \n",
       "3   35                          Private             29                3   \n",
       "4   49                          Private              4               34   \n",
       "\n",
       "                              education  wage_hour      enrolled_edu  \\\n",
       "0              1st 2nd 3rd or 4th grade          0   Not in universe   \n",
       "1   Associates degree-occup /vocational          0   Not in universe   \n",
       "2                              Children          0   Not in universe   \n",
       "3                  High school graduate          0   Not in universe   \n",
       "4                  High school graduate          0   Not in universe   \n",
       "\n",
       "                     marital_status                   maj_industry  \\\n",
       "0   Married-civilian spouse present    Manufacturing-durable goods   \n",
       "1   Married-civilian spouse present   Business and repair services   \n",
       "2                     Never married    Not in universe or children   \n",
       "3                          Divorced                 Transportation   \n",
       "4                          Divorced                   Construction   \n",
       "\n",
       "                           maj_occupation  ... father_birthplace  \\\n",
       "0   Machine operators assmblrs & inspctrs  ...            Mexico   \n",
       "1                  Professional specialty  ...     United-States   \n",
       "2                         Not in universe  ...     United-States   \n",
       "3          Executive admin and managerial  ...     United-States   \n",
       "4     Precision production craft & repair  ...     United-States   \n",
       "\n",
       "  mother_birthplace self_birthplace                           citizenship  \\\n",
       "0            Mexico          Mexico   Foreign born- Not a citizen of U S    \n",
       "1     United-States   United-States     Native- Born in the United States   \n",
       "2     United-States   United-States     Native- Born in the United States   \n",
       "3     United-States   United-States     Native- Born in the United States   \n",
       "4     United-States   United-States     Native- Born in the United States   \n",
       "\n",
       "  own_business fill_inc_questionnaire  veterans_benefits  weeks_worked  year  \\\n",
       "0            0        Not in universe                  2            12    95   \n",
       "1            0        Not in universe                  2            26    95   \n",
       "2            0        Not in universe                  0             0    95   \n",
       "3            2        Not in universe                  2            52    94   \n",
       "4            0        Not in universe                  2            50    95   \n",
       "\n",
       "  dep_var  \n",
       "0  -50000  \n",
       "1  -50000  \n",
       "2  -50000  \n",
       "3  -50000  \n",
       "4  -50000  \n",
       "\n",
       "[5 rows x 42 columns]"
      ]
     },
     "execution_count": 826,
     "metadata": {},
     "output_type": "execute_result"
    }
   ],
   "source": [
    "test.head()"
   ]
  },
  {
   "attachments": {},
   "cell_type": "markdown",
   "metadata": {},
   "source": [
    "## Data Cleaning"
   ]
  },
  {
   "cell_type": "code",
   "execution_count": 827,
   "metadata": {},
   "outputs": [
    {
     "data": {
      "text/html": [
       "<div>\n",
       "<style scoped>\n",
       "    .dataframe tbody tr th:only-of-type {\n",
       "        vertical-align: middle;\n",
       "    }\n",
       "\n",
       "    .dataframe tbody tr th {\n",
       "        vertical-align: top;\n",
       "    }\n",
       "\n",
       "    .dataframe thead th {\n",
       "        text-align: right;\n",
       "    }\n",
       "</style>\n",
       "<table border=\"1\" class=\"dataframe\">\n",
       "  <thead>\n",
       "    <tr style=\"text-align: right;\">\n",
       "      <th></th>\n",
       "      <th>age</th>\n",
       "      <th>class_worker</th>\n",
       "      <th>industry_code</th>\n",
       "      <th>occupation_code</th>\n",
       "      <th>education</th>\n",
       "      <th>wage_hour</th>\n",
       "      <th>enrolled_edu</th>\n",
       "      <th>marital_status</th>\n",
       "      <th>maj_industry</th>\n",
       "      <th>maj_occupation</th>\n",
       "      <th>...</th>\n",
       "      <th>father_birthplace</th>\n",
       "      <th>mother_birthplace</th>\n",
       "      <th>self_birthplace</th>\n",
       "      <th>citizenship</th>\n",
       "      <th>own_business</th>\n",
       "      <th>fill_inc_questionnaire</th>\n",
       "      <th>veterans_benefits</th>\n",
       "      <th>weeks_worked</th>\n",
       "      <th>year</th>\n",
       "      <th>dep_var</th>\n",
       "    </tr>\n",
       "  </thead>\n",
       "  <tbody>\n",
       "    <tr>\n",
       "      <th>0</th>\n",
       "      <td>73</td>\n",
       "      <td>Not in universe</td>\n",
       "      <td>0</td>\n",
       "      <td>0</td>\n",
       "      <td>High school graduate</td>\n",
       "      <td>0</td>\n",
       "      <td>Not in universe</td>\n",
       "      <td>Widowed</td>\n",
       "      <td>Not in universe or children</td>\n",
       "      <td>Not in universe</td>\n",
       "      <td>...</td>\n",
       "      <td>United-States</td>\n",
       "      <td>United-States</td>\n",
       "      <td>United-States</td>\n",
       "      <td>Native- Born in the United States</td>\n",
       "      <td>0</td>\n",
       "      <td>Not in universe</td>\n",
       "      <td>2</td>\n",
       "      <td>0</td>\n",
       "      <td>95</td>\n",
       "      <td>-50000</td>\n",
       "    </tr>\n",
       "    <tr>\n",
       "      <th>1</th>\n",
       "      <td>58</td>\n",
       "      <td>Self-employed-not incorporated</td>\n",
       "      <td>4</td>\n",
       "      <td>34</td>\n",
       "      <td>Some college but no degree</td>\n",
       "      <td>0</td>\n",
       "      <td>Not in universe</td>\n",
       "      <td>Divorced</td>\n",
       "      <td>Construction</td>\n",
       "      <td>Precision production craft &amp; repair</td>\n",
       "      <td>...</td>\n",
       "      <td>United-States</td>\n",
       "      <td>United-States</td>\n",
       "      <td>United-States</td>\n",
       "      <td>Native- Born in the United States</td>\n",
       "      <td>0</td>\n",
       "      <td>Not in universe</td>\n",
       "      <td>2</td>\n",
       "      <td>52</td>\n",
       "      <td>94</td>\n",
       "      <td>-50000</td>\n",
       "    </tr>\n",
       "    <tr>\n",
       "      <th>2</th>\n",
       "      <td>18</td>\n",
       "      <td>Not in universe</td>\n",
       "      <td>0</td>\n",
       "      <td>0</td>\n",
       "      <td>10th grade</td>\n",
       "      <td>0</td>\n",
       "      <td>High school</td>\n",
       "      <td>Never married</td>\n",
       "      <td>Not in universe or children</td>\n",
       "      <td>Not in universe</td>\n",
       "      <td>...</td>\n",
       "      <td>Vietnam</td>\n",
       "      <td>Vietnam</td>\n",
       "      <td>Vietnam</td>\n",
       "      <td>Foreign born- Not a citizen of U S</td>\n",
       "      <td>0</td>\n",
       "      <td>Not in universe</td>\n",
       "      <td>2</td>\n",
       "      <td>0</td>\n",
       "      <td>95</td>\n",
       "      <td>-50000</td>\n",
       "    </tr>\n",
       "    <tr>\n",
       "      <th>3</th>\n",
       "      <td>9</td>\n",
       "      <td>Not in universe</td>\n",
       "      <td>0</td>\n",
       "      <td>0</td>\n",
       "      <td>Children</td>\n",
       "      <td>0</td>\n",
       "      <td>Not in universe</td>\n",
       "      <td>Never married</td>\n",
       "      <td>Not in universe or children</td>\n",
       "      <td>Not in universe</td>\n",
       "      <td>...</td>\n",
       "      <td>United-States</td>\n",
       "      <td>United-States</td>\n",
       "      <td>United-States</td>\n",
       "      <td>Native- Born in the United States</td>\n",
       "      <td>0</td>\n",
       "      <td>Not in universe</td>\n",
       "      <td>0</td>\n",
       "      <td>0</td>\n",
       "      <td>94</td>\n",
       "      <td>-50000</td>\n",
       "    </tr>\n",
       "    <tr>\n",
       "      <th>4</th>\n",
       "      <td>10</td>\n",
       "      <td>Not in universe</td>\n",
       "      <td>0</td>\n",
       "      <td>0</td>\n",
       "      <td>Children</td>\n",
       "      <td>0</td>\n",
       "      <td>Not in universe</td>\n",
       "      <td>Never married</td>\n",
       "      <td>Not in universe or children</td>\n",
       "      <td>Not in universe</td>\n",
       "      <td>...</td>\n",
       "      <td>United-States</td>\n",
       "      <td>United-States</td>\n",
       "      <td>United-States</td>\n",
       "      <td>Native- Born in the United States</td>\n",
       "      <td>0</td>\n",
       "      <td>Not in universe</td>\n",
       "      <td>0</td>\n",
       "      <td>0</td>\n",
       "      <td>94</td>\n",
       "      <td>-50000</td>\n",
       "    </tr>\n",
       "  </tbody>\n",
       "</table>\n",
       "<p>5 rows × 42 columns</p>\n",
       "</div>"
      ],
      "text/plain": [
       "   age                     class_worker  industry_code  occupation_code  \\\n",
       "0   73                  Not in universe              0                0   \n",
       "1   58   Self-employed-not incorporated              4               34   \n",
       "2   18                  Not in universe              0                0   \n",
       "3    9                  Not in universe              0                0   \n",
       "4   10                  Not in universe              0                0   \n",
       "\n",
       "                     education  wage_hour      enrolled_edu  marital_status  \\\n",
       "0         High school graduate          0   Not in universe         Widowed   \n",
       "1   Some college but no degree          0   Not in universe        Divorced   \n",
       "2                   10th grade          0       High school   Never married   \n",
       "3                     Children          0   Not in universe   Never married   \n",
       "4                     Children          0   Not in universe   Never married   \n",
       "\n",
       "                   maj_industry                        maj_occupation  ...  \\\n",
       "0   Not in universe or children                       Not in universe  ...   \n",
       "1                  Construction   Precision production craft & repair  ...   \n",
       "2   Not in universe or children                       Not in universe  ...   \n",
       "3   Not in universe or children                       Not in universe  ...   \n",
       "4   Not in universe or children                       Not in universe  ...   \n",
       "\n",
       "  father_birthplace mother_birthplace self_birthplace  \\\n",
       "0     United-States     United-States   United-States   \n",
       "1     United-States     United-States   United-States   \n",
       "2           Vietnam           Vietnam         Vietnam   \n",
       "3     United-States     United-States   United-States   \n",
       "4     United-States     United-States   United-States   \n",
       "\n",
       "                            citizenship own_business fill_inc_questionnaire  \\\n",
       "0     Native- Born in the United States            0        Not in universe   \n",
       "1     Native- Born in the United States            0        Not in universe   \n",
       "2   Foreign born- Not a citizen of U S             0        Not in universe   \n",
       "3     Native- Born in the United States            0        Not in universe   \n",
       "4     Native- Born in the United States            0        Not in universe   \n",
       "\n",
       "   veterans_benefits  weeks_worked  year dep_var  \n",
       "0                  2             0    95  -50000  \n",
       "1                  2            52    94  -50000  \n",
       "2                  2             0    95  -50000  \n",
       "3                  0             0    94  -50000  \n",
       "4                  0             0    94  -50000  \n",
       "\n",
       "[5 rows x 42 columns]"
      ]
     },
     "execution_count": 827,
     "metadata": {},
     "output_type": "execute_result"
    }
   ],
   "source": [
    "learn.head()"
   ]
  },
  {
   "cell_type": "code",
   "execution_count": 828,
   "metadata": {},
   "outputs": [],
   "source": [
    "# Drop the \"weight\" column since we do not need that\n",
    "learn.drop('weight', axis = 1, inplace=True)"
   ]
  },
  {
   "attachments": {},
   "cell_type": "markdown",
   "metadata": {},
   "source": [
    "We check the number of duplicated rows (where every column is the same across the entire row)."
   ]
  },
  {
   "cell_type": "code",
   "execution_count": 829,
   "metadata": {},
   "outputs": [],
   "source": [
    "duplicated_learn = learn[learn.duplicated()]\n",
    "duplicated_test = test[test.duplicated()]"
   ]
  },
  {
   "cell_type": "code",
   "execution_count": 830,
   "metadata": {},
   "outputs": [],
   "source": [
    "# Remove duplicate rows in both dataframes\n",
    "learn.drop_duplicates(inplace=True)\n",
    "test.drop_duplicates(inplace=True)"
   ]
  },
  {
   "cell_type": "code",
   "execution_count": 831,
   "metadata": {},
   "outputs": [
    {
     "data": {
      "text/html": [
       "<div>\n",
       "<style scoped>\n",
       "    .dataframe tbody tr th:only-of-type {\n",
       "        vertical-align: middle;\n",
       "    }\n",
       "\n",
       "    .dataframe tbody tr th {\n",
       "        vertical-align: top;\n",
       "    }\n",
       "\n",
       "    .dataframe thead th {\n",
       "        text-align: right;\n",
       "    }\n",
       "</style>\n",
       "<table border=\"1\" class=\"dataframe\">\n",
       "  <thead>\n",
       "    <tr style=\"text-align: right;\">\n",
       "      <th></th>\n",
       "      <th>age</th>\n",
       "      <th>class_worker</th>\n",
       "      <th>industry_code</th>\n",
       "      <th>occupation_code</th>\n",
       "      <th>education</th>\n",
       "      <th>wage_hour</th>\n",
       "      <th>enrolled_edu</th>\n",
       "      <th>marital_status</th>\n",
       "      <th>maj_industry</th>\n",
       "      <th>maj_occupation</th>\n",
       "      <th>...</th>\n",
       "      <th>father_birthplace</th>\n",
       "      <th>mother_birthplace</th>\n",
       "      <th>self_birthplace</th>\n",
       "      <th>citizenship</th>\n",
       "      <th>own_business</th>\n",
       "      <th>fill_inc_questionnaire</th>\n",
       "      <th>veterans_benefits</th>\n",
       "      <th>weeks_worked</th>\n",
       "      <th>year</th>\n",
       "      <th>dep_var</th>\n",
       "    </tr>\n",
       "  </thead>\n",
       "  <tbody>\n",
       "  </tbody>\n",
       "</table>\n",
       "<p>0 rows × 41 columns</p>\n",
       "</div>"
      ],
      "text/plain": [
       "Empty DataFrame\n",
       "Columns: [age, class_worker, industry_code, occupation_code, education, wage_hour, enrolled_edu, marital_status, maj_industry, maj_occupation, race, hispanic_origin, sex, member_labour_union, reason_unemp, employment_status, cap_gains, cap_loss, dividends, tax_filer_status, region_previous, state_previous, detailed_hh_status, detailed_hh_summary, mig_code_msa, mig_code_creg, mig_code_within_reg, live_in_house_one_year, migration_prev_res, num persons worked for employer, family_members_18, father_birthplace, mother_birthplace, self_birthplace, citizenship, own_business, fill_inc_questionnaire, veterans_benefits, weeks_worked, year, dep_var]\n",
       "Index: []\n",
       "\n",
       "[0 rows x 41 columns]"
      ]
     },
     "execution_count": 831,
     "metadata": {},
     "output_type": "execute_result"
    }
   ],
   "source": [
    "# Check if duplicate removal worked\n",
    "learn[learn.duplicated()]\n"
   ]
  },
  {
   "cell_type": "code",
   "execution_count": 832,
   "metadata": {},
   "outputs": [
    {
     "data": {
      "text/html": [
       "<div>\n",
       "<style scoped>\n",
       "    .dataframe tbody tr th:only-of-type {\n",
       "        vertical-align: middle;\n",
       "    }\n",
       "\n",
       "    .dataframe tbody tr th {\n",
       "        vertical-align: top;\n",
       "    }\n",
       "\n",
       "    .dataframe thead th {\n",
       "        text-align: right;\n",
       "    }\n",
       "</style>\n",
       "<table border=\"1\" class=\"dataframe\">\n",
       "  <thead>\n",
       "    <tr style=\"text-align: right;\">\n",
       "      <th></th>\n",
       "      <th>age</th>\n",
       "      <th>class_worker</th>\n",
       "      <th>industry_code</th>\n",
       "      <th>occupation_code</th>\n",
       "      <th>education</th>\n",
       "      <th>wage_hour</th>\n",
       "      <th>enrolled_edu</th>\n",
       "      <th>marital_status</th>\n",
       "      <th>maj_industry</th>\n",
       "      <th>maj_occupation</th>\n",
       "      <th>...</th>\n",
       "      <th>father_birthplace</th>\n",
       "      <th>mother_birthplace</th>\n",
       "      <th>self_birthplace</th>\n",
       "      <th>citizenship</th>\n",
       "      <th>own_business</th>\n",
       "      <th>fill_inc_questionnaire</th>\n",
       "      <th>veterans_benefits</th>\n",
       "      <th>weeks_worked</th>\n",
       "      <th>year</th>\n",
       "      <th>dep_var</th>\n",
       "    </tr>\n",
       "  </thead>\n",
       "  <tbody>\n",
       "  </tbody>\n",
       "</table>\n",
       "<p>0 rows × 42 columns</p>\n",
       "</div>"
      ],
      "text/plain": [
       "Empty DataFrame\n",
       "Columns: [age, class_worker, industry_code, occupation_code, education, wage_hour, enrolled_edu, marital_status, maj_industry, maj_occupation, race, hispanic_origin, sex, member_labour_union, reason_unemp, employment_status, cap_gains, cap_loss, dividends, tax_filer_status, region_previous, state_previous, detailed_hh_status, detailed_hh_summary, weight, mig_code_msa, mig_code_creg, mig_code_within_reg, live_in_house_one_year, migration_prev_res, num persons worked for employer, family_members_18, father_birthplace, mother_birthplace, self_birthplace, citizenship, own_business, fill_inc_questionnaire, veterans_benefits, weeks_worked, year, dep_var]\n",
       "Index: []\n",
       "\n",
       "[0 rows x 42 columns]"
      ]
     },
     "execution_count": 832,
     "metadata": {},
     "output_type": "execute_result"
    }
   ],
   "source": [
    "test[test.duplicated()]"
   ]
  },
  {
   "cell_type": "code",
   "execution_count": 833,
   "metadata": {},
   "outputs": [
    {
     "data": {
      "text/plain": [
       " Married-civilian spouse present    77842\n",
       " Never married                      48073\n",
       " Divorced                           12504\n",
       " Widowed                             8873\n",
       " Separated                           3430\n",
       " Married-spouse absent               1516\n",
       " Married-A F spouse present           658\n",
       "Name: marital_status, dtype: int64"
      ]
     },
     "execution_count": 833,
     "metadata": {},
     "output_type": "execute_result"
    }
   ],
   "source": [
    "learn.marital_status.value_counts()"
   ]
  },
  {
   "attachments": {},
   "cell_type": "markdown",
   "metadata": {},
   "source": [
    "We now remove certain rows (such as where the age is zero and the marital status is married)"
   ]
  },
  {
   "cell_type": "code",
   "execution_count": 834,
   "metadata": {},
   "outputs": [],
   "source": [
    "learn = learn.loc[~((learn['age'] == 0) & (learn['marital_status'].str.strip()  == 'Married-civilian spouse present'))]\n",
    "test = test.loc[~((test['age'] == 0) & (test['marital_status'].str.strip()  == 'Married-civilian spouse present'))]"
   ]
  },
  {
   "cell_type": "code",
   "execution_count": 835,
   "metadata": {},
   "outputs": [],
   "source": [
    "# We stack the test and learning datasets to check for rows which are present in both datasets, and drop them.\n",
    "merged = pd.concat([learn, test])"
   ]
  },
  {
   "cell_type": "code",
   "execution_count": 836,
   "metadata": {},
   "outputs": [
    {
     "data": {
      "text/html": [
       "<div>\n",
       "<style scoped>\n",
       "    .dataframe tbody tr th:only-of-type {\n",
       "        vertical-align: middle;\n",
       "    }\n",
       "\n",
       "    .dataframe tbody tr th {\n",
       "        vertical-align: top;\n",
       "    }\n",
       "\n",
       "    .dataframe thead th {\n",
       "        text-align: right;\n",
       "    }\n",
       "</style>\n",
       "<table border=\"1\" class=\"dataframe\">\n",
       "  <thead>\n",
       "    <tr style=\"text-align: right;\">\n",
       "      <th></th>\n",
       "      <th>age</th>\n",
       "      <th>class_worker</th>\n",
       "      <th>industry_code</th>\n",
       "      <th>occupation_code</th>\n",
       "      <th>education</th>\n",
       "      <th>wage_hour</th>\n",
       "      <th>enrolled_edu</th>\n",
       "      <th>marital_status</th>\n",
       "      <th>maj_industry</th>\n",
       "      <th>maj_occupation</th>\n",
       "      <th>...</th>\n",
       "      <th>mother_birthplace</th>\n",
       "      <th>self_birthplace</th>\n",
       "      <th>citizenship</th>\n",
       "      <th>own_business</th>\n",
       "      <th>fill_inc_questionnaire</th>\n",
       "      <th>veterans_benefits</th>\n",
       "      <th>weeks_worked</th>\n",
       "      <th>year</th>\n",
       "      <th>dep_var</th>\n",
       "      <th>weight</th>\n",
       "    </tr>\n",
       "  </thead>\n",
       "  <tbody>\n",
       "  </tbody>\n",
       "</table>\n",
       "<p>0 rows × 42 columns</p>\n",
       "</div>"
      ],
      "text/plain": [
       "Empty DataFrame\n",
       "Columns: [age, class_worker, industry_code, occupation_code, education, wage_hour, enrolled_edu, marital_status, maj_industry, maj_occupation, race, hispanic_origin, sex, member_labour_union, reason_unemp, employment_status, cap_gains, cap_loss, dividends, tax_filer_status, region_previous, state_previous, detailed_hh_status, detailed_hh_summary, mig_code_msa, mig_code_creg, mig_code_within_reg, live_in_house_one_year, migration_prev_res, num persons worked for employer, family_members_18, father_birthplace, mother_birthplace, self_birthplace, citizenship, own_business, fill_inc_questionnaire, veterans_benefits, weeks_worked, year, dep_var, weight]\n",
       "Index: []\n",
       "\n",
       "[0 rows x 42 columns]"
      ]
     },
     "execution_count": 836,
     "metadata": {},
     "output_type": "execute_result"
    }
   ],
   "source": [
    "merged[merged.duplicated()]"
   ]
  },
  {
   "attachments": {},
   "cell_type": "markdown",
   "metadata": {},
   "source": [
    "There are no rows which are present in both the training and testing datasets."
   ]
  },
  {
   "attachments": {},
   "cell_type": "markdown",
   "metadata": {},
   "source": [
    "Check NAs / missing values"
   ]
  },
  {
   "cell_type": "code",
   "execution_count": 837,
   "metadata": {},
   "outputs": [
    {
     "name": "stdout",
     "output_type": "stream",
     "text": [
      "0\n",
      "0\n"
     ]
    }
   ],
   "source": [
    "print(learn.isna().sum().max())\n",
    "print(test.isna().sum().max())"
   ]
  },
  {
   "attachments": {},
   "cell_type": "markdown",
   "metadata": {},
   "source": [
    "No missing values in either dataset. Next, we check for zeroes in each column across both datasets. "
   ]
  },
  {
   "cell_type": "code",
   "execution_count": 838,
   "metadata": {},
   "outputs": [
    {
     "data": {
      "text/plain": [
       "cap_loss                           148990\n",
       "cap_gains                          145521\n",
       "wage_hour                          141593\n",
       "own_business                       134071\n",
       "dividends                          131815\n",
       "industry_code                       54547\n",
       "occupation_code                     54547\n",
       "num persons worked for employer     49984\n",
       "weeks_worked                        49984\n",
       "veterans_benefits                   12697\n",
       "age                                   660\n",
       "dtype: int64"
      ]
     },
     "execution_count": 838,
     "metadata": {},
     "output_type": "execute_result"
    }
   ],
   "source": [
    "learn.eq(0).sum()[learn.eq(0).sum() != 0].sort_values(ascending=False)"
   ]
  },
  {
   "cell_type": "code",
   "execution_count": 839,
   "metadata": {},
   "outputs": [
    {
     "data": {
      "text/plain": [
       "cap_loss                           96970\n",
       "cap_gains                          95156\n",
       "wage_hour                          93294\n",
       "own_business                       89304\n",
       "dividends                          88350\n",
       "industry_code                      49402\n",
       "occupation_code                    49402\n",
       "num persons worked for employer    47008\n",
       "weeks_worked                       47008\n",
       "veterans_benefits                  22596\n",
       "age                                 1357\n",
       "dtype: int64"
      ]
     },
     "execution_count": 839,
     "metadata": {},
     "output_type": "execute_result"
    }
   ],
   "source": [
    "test.eq(0).sum()[test.eq(0).sum() != 0].sort_values(ascending=False)"
   ]
  },
  {
   "attachments": {},
   "cell_type": "markdown",
   "metadata": {},
   "source": [
    "Some of these zeroes are expected, such as for categorical features (veterans benefits, own_business, industry_code, occupation_code). The 660 zeroes in age are also expected, since that could be newbors in the dataset, as well as number of persons worked for employer, since a self employed person might have zero in that category.   "
   ]
  },
  {
   "cell_type": "code",
   "execution_count": 840,
   "metadata": {},
   "outputs": [
    {
     "data": {
      "image/png": "[encoded data removed]",
      "text/plain": [
       "<Figure size 432x288 with 1 Axes>"
      ]
     },
     "metadata": {
      "needs_background": "light"
     },
     "output_type": "display_data"
    }
   ],
   "source": [
    "sns.histplot(x='num persons worked for employer', data=learn)\n",
    "plt.show()"
   ]
  },
  {
   "cell_type": "code",
   "execution_count": 841,
   "metadata": {},
   "outputs": [],
   "source": [
    "from plotnine import ggplot, aes, geom_bar, facet_wrap, ggtitle, geom_histogram, stat_bin"
   ]
  },
  {
   "cell_type": "code",
   "execution_count": 842,
   "metadata": {},
   "outputs": [
    {
     "data": {
      "image/png": "[encoded data removed]",
      "text/plain": [
       "<Figure size 640x480 with 1 Axes>"
      ]
     },
     "metadata": {},
     "output_type": "display_data"
    },
    {
     "data": {
      "text/plain": [
       "<ggplot: (135578044404)>"
      ]
     },
     "execution_count": 842,
     "metadata": {},
     "output_type": "execute_result"
    }
   ],
   "source": [
    "(\n",
    "    ggplot(learn) + \n",
    "    aes(x = 'dividends') + \n",
    "    geom_histogram(bins = 25)\n",
    ")"
   ]
  },
  {
   "attachments": {},
   "cell_type": "markdown",
   "metadata": {},
   "source": [
    "As most values for dividends, capital gains, capital losses, and wage per hour are zero, it might be beneficial to apply some kind of transformation (log) to the data, or to convert them to binary categorical variables (1 if > 0)."
   ]
  },
  {
   "cell_type": "code",
   "execution_count": 843,
   "metadata": {},
   "outputs": [
    {
     "data": {
      "image/png": "[encoded data removed]",
      "text/plain": [
       "<Figure size 640x480 with 1 Axes>"
      ]
     },
     "metadata": {},
     "output_type": "display_data"
    },
    {
     "data": {
      "text/plain": [
       "<ggplot: (135577293858)>"
      ]
     },
     "execution_count": 843,
     "metadata": {},
     "output_type": "execute_result"
    }
   ],
   "source": [
    "(\n",
    "    ggplot(learn) + \n",
    "    aes(x = 'wage_hour') + \n",
    "    geom_histogram(bins = 25)\n",
    ")"
   ]
  },
  {
   "attachments": {},
   "cell_type": "markdown",
   "metadata": {},
   "source": [
    "For the dependent variable, we convert it to a binary dummy variable, taking a value of zero if annual income < 50k, and 1 otherwise. "
   ]
  },
  {
   "cell_type": "code",
   "execution_count": 844,
   "metadata": {},
   "outputs": [],
   "source": [
    "learn['dep_var_binary'] = np.where(learn.dep_var == \"-50000\", 0, 1)\n",
    "\n",
    "test['dep_var_binary'] = np.where(test.dep_var == \"-50000\", 0, 1)"
   ]
  },
  {
   "cell_type": "code",
   "execution_count": 845,
   "metadata": {},
   "outputs": [],
   "source": [
    "learn['from_learn'] = 'from_learn'\n",
    "test['from_test'] = 'from_test'"
   ]
  },
  {
   "attachments": {},
   "cell_type": "markdown",
   "metadata": {},
   "source": [
    "# Exploratory Data Analysis"
   ]
  },
  {
   "attachments": {},
   "cell_type": "markdown",
   "metadata": {},
   "source": [
    "We combine the training and testing datasets into 1 for the EDA portion, as the dependent variable is present in both datasets. "
   ]
  },
  {
   "cell_type": "code",
   "execution_count": 846,
   "metadata": {},
   "outputs": [],
   "source": [
    "merged = pd.concat([learn, test])"
   ]
  },
  {
   "attachments": {},
   "cell_type": "markdown",
   "metadata": {},
   "source": [
    "7.36% of the values in the dependent variable (annual income) are above the threshold of $50k. "
   ]
  },
  {
   "cell_type": "code",
   "execution_count": 847,
   "metadata": {},
   "outputs": [
    {
     "data": {
      "text/plain": [
       "7.368939481199334"
      ]
     },
     "execution_count": 847,
     "metadata": {},
     "output_type": "execute_result"
    }
   ],
   "source": [
    "100*(merged.dep_var.value_counts()[1]/ (merged.dep_var.value_counts()[1] + merged.dep_var.value_counts()[0]))"
   ]
  },
  {
   "attachments": {},
   "cell_type": "markdown",
   "metadata": {},
   "source": [
    "Make histogram plots for all variables in the dataset."
   ]
  },
  {
   "cell_type": "code",
   "execution_count": 848,
   "metadata": {},
   "outputs": [],
   "source": [
    "# First, plot continuous variables\n",
    "cont_vars = ['age', 'cap_loss', 'cap_gains', 'wage_hour', 'dividends', 'weeks_worked', 'num persons worked for employer']"
   ]
  },
  {
   "cell_type": "code",
   "execution_count": 849,
   "metadata": {},
   "outputs": [
    {
     "name": "stderr",
     "output_type": "stream",
     "text": [
      "C:\\Users\\mk255125\\AppData\\Roaming\\Python\\Python39\\site-packages\\plotnine\\stats\\stat_bin.py:95: PlotnineWarning: 'stat_bin()' using 'bins = 95'. Pick better value with 'binwidth'.\n"
     ]
    },
    {
     "data": {
      "image/png": "[encoded data removed]",
      "text/plain": [
       "<Figure size 640x480 with 1 Axes>"
      ]
     },
     "metadata": {},
     "output_type": "display_data"
    },
    {
     "name": "stdout",
     "output_type": "stream",
     "text": [
      "\n"
     ]
    },
    {
     "name": "stderr",
     "output_type": "stream",
     "text": [
      "C:\\Users\\mk255125\\AppData\\Roaming\\Python\\Python39\\site-packages\\plotnine\\stats\\stat_bin.py:95: PlotnineWarning: 'stat_bin()' using 'bins = 502'. Pick better value with 'binwidth'.\n"
     ]
    },
    {
     "data": {
      "image/png": "[encoded data removed]",
      "text/plain": [
       "<Figure size 640x480 with 1 Axes>"
      ]
     },
     "metadata": {},
     "output_type": "display_data"
    },
    {
     "name": "stdout",
     "output_type": "stream",
     "text": [
      "\n"
     ]
    },
    {
     "name": "stderr",
     "output_type": "stream",
     "text": [
      "C:\\Users\\mk255125\\AppData\\Roaming\\Python\\Python39\\site-packages\\plotnine\\stats\\stat_bin.py:95: PlotnineWarning: 'stat_bin()' using 'bins = 502'. Pick better value with 'binwidth'.\n"
     ]
    },
    {
     "data": {
      "image/png": "[encoded data removed]",
      "text/plain": [
       "<Figure size 640x480 with 1 Axes>"
      ]
     },
     "metadata": {},
     "output_type": "display_data"
    },
    {
     "name": "stdout",
     "output_type": "stream",
     "text": [
      "\n"
     ]
    },
    {
     "name": "stderr",
     "output_type": "stream",
     "text": [
      "C:\\Users\\mk255125\\AppData\\Roaming\\Python\\Python39\\site-packages\\plotnine\\stats\\stat_bin.py:95: PlotnineWarning: 'stat_bin()' using 'bins = 502'. Pick better value with 'binwidth'.\n"
     ]
    },
    {
     "data": {
      "image/png": "[encoded data removed]",
      "text/plain": [
       "<Figure size 640x480 with 1 Axes>"
      ]
     },
     "metadata": {},
     "output_type": "display_data"
    },
    {
     "name": "stdout",
     "output_type": "stream",
     "text": [
      "\n"
     ]
    },
    {
     "name": "stderr",
     "output_type": "stream",
     "text": [
      "C:\\Users\\mk255125\\AppData\\Roaming\\Python\\Python39\\site-packages\\plotnine\\stats\\stat_bin.py:95: PlotnineWarning: 'stat_bin()' using 'bins = 502'. Pick better value with 'binwidth'.\n"
     ]
    },
    {
     "data": {
      "image/png": "[encoded data removed]",
      "text/plain": [
       "<Figure size 640x480 with 1 Axes>"
      ]
     },
     "metadata": {},
     "output_type": "display_data"
    },
    {
     "name": "stdout",
     "output_type": "stream",
     "text": [
      "\n"
     ]
    },
    {
     "name": "stderr",
     "output_type": "stream",
     "text": [
      "C:\\Users\\mk255125\\AppData\\Roaming\\Python\\Python39\\site-packages\\plotnine\\stats\\stat_bin.py:95: PlotnineWarning: 'stat_bin()' using 'bins = 32'. Pick better value with 'binwidth'.\n"
     ]
    },
    {
     "data": {
      "image/png": "[encoded data removed]",
      "text/plain": [
       "<Figure size 640x480 with 1 Axes>"
      ]
     },
     "metadata": {},
     "output_type": "display_data"
    },
    {
     "name": "stdout",
     "output_type": "stream",
     "text": [
      "\n"
     ]
    },
    {
     "name": "stderr",
     "output_type": "stream",
     "text": [
      "C:\\Users\\mk255125\\AppData\\Roaming\\Python\\Python39\\site-packages\\plotnine\\stats\\stat_bin.py:95: PlotnineWarning: 'stat_bin()' using 'bins = 38'. Pick better value with 'binwidth'.\n"
     ]
    },
    {
     "data": {
      "image/png": "[encoded data removed]",
      "text/plain": [
       "<Figure size 640x480 with 1 Axes>"
      ]
     },
     "metadata": {},
     "output_type": "display_data"
    },
    {
     "name": "stdout",
     "output_type": "stream",
     "text": [
      "\n"
     ]
    }
   ],
   "source": [
    "for i in cont_vars:\n",
    "    print(\n",
    "        ggplot(merged) + \n",
    "        aes(x = i) + \n",
    "        geom_histogram()\n",
    "    )"
   ]
  },
  {
   "attachments": {},
   "cell_type": "markdown",
   "metadata": {},
   "source": [
    "Age seems to follow a normal distribution, and does not need to be transformed or converted to a categorical feature. All other continuous features might perform better if they were converted into categorical features. "
   ]
  },
  {
   "attachments": {},
   "cell_type": "markdown",
   "metadata": {},
   "source": [
    "We split weeks worked into 3 categories: 0 weeks, 1 - 49 weeks, and >= 50 weeks (based on the distribution plot)"
   ]
  },
  {
   "cell_type": "code",
   "execution_count": 850,
   "metadata": {},
   "outputs": [],
   "source": [
    "merged['weeks_worked_binary'] = np.where(merged['weeks_worked'] == 0, 0, np.where(merged['weeks_worked'] < 50, 1, 2 ))"
   ]
  },
  {
   "cell_type": "code",
   "execution_count": 851,
   "metadata": {},
   "outputs": [
    {
     "name": "stderr",
     "output_type": "stream",
     "text": [
      "C:\\Users\\mk255125\\AppData\\Local\\Temp\\ipykernel_25524\\4104768248.py:2: SettingWithCopyWarning: \n",
      "A value is trying to be set on a copy of a slice from a DataFrame.\n",
      "Try using .loc[row_indexer,col_indexer] = value instead\n",
      "\n",
      "See the caveats in the documentation: https://pandas.pydata.org/pandas-docs/stable/user_guide/indexing.html#returning-a-view-versus-a-copy\n"
     ]
    }
   ],
   "source": [
    "income_weeks = merged[['weeks_worked_binary', 'dep_var_binary']]\n",
    "income_weeks['id'] = income_weeks.index"
   ]
  },
  {
   "cell_type": "code",
   "execution_count": 852,
   "metadata": {},
   "outputs": [
    {
     "data": {
      "text/html": [
       "<div>\n",
       "<style scoped>\n",
       "    .dataframe tbody tr th:only-of-type {\n",
       "        vertical-align: middle;\n",
       "    }\n",
       "\n",
       "    .dataframe tbody tr th {\n",
       "        vertical-align: top;\n",
       "    }\n",
       "\n",
       "    .dataframe thead th {\n",
       "        text-align: right;\n",
       "    }\n",
       "</style>\n",
       "<table border=\"1\" class=\"dataframe\">\n",
       "  <thead>\n",
       "    <tr style=\"text-align: right;\">\n",
       "      <th></th>\n",
       "      <th>weeks_worked_binary</th>\n",
       "      <th>dep_var_binary</th>\n",
       "      <th>id</th>\n",
       "    </tr>\n",
       "  </thead>\n",
       "  <tbody>\n",
       "    <tr>\n",
       "      <th>0</th>\n",
       "      <td>0</td>\n",
       "      <td>0</td>\n",
       "      <td>0</td>\n",
       "    </tr>\n",
       "    <tr>\n",
       "      <th>1</th>\n",
       "      <td>2</td>\n",
       "      <td>0</td>\n",
       "      <td>1</td>\n",
       "    </tr>\n",
       "    <tr>\n",
       "      <th>2</th>\n",
       "      <td>0</td>\n",
       "      <td>0</td>\n",
       "      <td>2</td>\n",
       "    </tr>\n",
       "    <tr>\n",
       "      <th>3</th>\n",
       "      <td>0</td>\n",
       "      <td>0</td>\n",
       "      <td>3</td>\n",
       "    </tr>\n",
       "    <tr>\n",
       "      <th>4</th>\n",
       "      <td>0</td>\n",
       "      <td>0</td>\n",
       "      <td>4</td>\n",
       "    </tr>\n",
       "    <tr>\n",
       "      <th>...</th>\n",
       "      <td>...</td>\n",
       "      <td>...</td>\n",
       "      <td>...</td>\n",
       "    </tr>\n",
       "    <tr>\n",
       "      <th>99756</th>\n",
       "      <td>0</td>\n",
       "      <td>0</td>\n",
       "      <td>99756</td>\n",
       "    </tr>\n",
       "    <tr>\n",
       "      <th>99758</th>\n",
       "      <td>2</td>\n",
       "      <td>0</td>\n",
       "      <td>99758</td>\n",
       "    </tr>\n",
       "    <tr>\n",
       "      <th>99759</th>\n",
       "      <td>2</td>\n",
       "      <td>0</td>\n",
       "      <td>99759</td>\n",
       "    </tr>\n",
       "    <tr>\n",
       "      <th>99760</th>\n",
       "      <td>2</td>\n",
       "      <td>0</td>\n",
       "      <td>99760</td>\n",
       "    </tr>\n",
       "    <tr>\n",
       "      <th>99761</th>\n",
       "      <td>0</td>\n",
       "      <td>0</td>\n",
       "      <td>99761</td>\n",
       "    </tr>\n",
       "  </tbody>\n",
       "</table>\n",
       "<p>251773 rows × 3 columns</p>\n",
       "</div>"
      ],
      "text/plain": [
       "       weeks_worked_binary  dep_var_binary     id\n",
       "0                        0               0      0\n",
       "1                        2               0      1\n",
       "2                        0               0      2\n",
       "3                        0               0      3\n",
       "4                        0               0      4\n",
       "...                    ...             ...    ...\n",
       "99756                    0               0  99756\n",
       "99758                    2               0  99758\n",
       "99759                    2               0  99759\n",
       "99760                    2               0  99760\n",
       "99761                    0               0  99761\n",
       "\n",
       "[251773 rows x 3 columns]"
      ]
     },
     "execution_count": 852,
     "metadata": {},
     "output_type": "execute_result"
    }
   ],
   "source": [
    "income_weeks"
   ]
  },
  {
   "cell_type": "code",
   "execution_count": 853,
   "metadata": {},
   "outputs": [
    {
     "data": {
      "image/png": "[encoded data removed]",
      "text/plain": [
       "<Figure size 640x480 with 1 Axes>"
      ]
     },
     "metadata": {},
     "output_type": "display_data"
    },
    {
     "data": {
      "text/plain": [
       "<ggplot: (135454718681)>"
      ]
     },
     "execution_count": 853,
     "metadata": {},
     "output_type": "execute_result"
    }
   ],
   "source": [
    "(\n",
    "    ggplot(income_weeks[income_weeks['dep_var_binary'] == 0]) + \n",
    "    aes(x = 'weeks_worked_binary') +\n",
    "    geom_bar() + \n",
    "    ggtitle('Below 50k')\n",
    ")"
   ]
  },
  {
   "cell_type": "code",
   "execution_count": 854,
   "metadata": {},
   "outputs": [
    {
     "data": {
      "image/png": "[encoded data removed]",
      "text/plain": [
       "<Figure size 640x480 with 1 Axes>"
      ]
     },
     "metadata": {},
     "output_type": "display_data"
    },
    {
     "data": {
      "text/plain": [
       "<ggplot: (135446897402)>"
      ]
     },
     "execution_count": 854,
     "metadata": {},
     "output_type": "execute_result"
    }
   ],
   "source": [
    "(\n",
    "    ggplot(income_weeks[income_weeks['dep_var_binary'] == 1]) + \n",
    "    aes(x = 'weeks_worked_binary') +\n",
    "    geom_bar() + \n",
    "    ggtitle('Above 50k')\n",
    ")"
   ]
  },
  {
   "attachments": {},
   "cell_type": "markdown",
   "metadata": {},
   "source": [
    "For both income levels, we plot the weeks worked to see how number of weeks work correspond to annual income. From the two bar plots, we can see that for high income earners, most of them are in the high weeks worked category, whereas the low income individuals have a mixed distribution of weeks worked.  "
   ]
  },
  {
   "attachments": {},
   "cell_type": "markdown",
   "metadata": {},
   "source": [
    "Next, we convert the wage per hour, cap gains variables to categorical features. "
   ]
  },
  {
   "cell_type": "code",
   "execution_count": 855,
   "metadata": {},
   "outputs": [
    {
     "name": "stderr",
     "output_type": "stream",
     "text": [
      "C:\\Users\\mk255125\\AppData\\Roaming\\Python\\Python39\\site-packages\\plotnine\\stats\\stat_bin.py:95: PlotnineWarning: 'stat_bin()' using 'bins = 169'. Pick better value with 'binwidth'.\n"
     ]
    },
    {
     "data": {
      "image/png": "[encoded data removed]",
      "text/plain": [
       "<Figure size 640x480 with 1 Axes>"
      ]
     },
     "metadata": {},
     "output_type": "display_data"
    },
    {
     "data": {
      "text/plain": [
       "<ggplot: (135332755059)>"
      ]
     },
     "execution_count": 855,
     "metadata": {},
     "output_type": "execute_result"
    }
   ],
   "source": [
    "(\n",
    "    ggplot(merged[merged.cap_gains != 0]) + \n",
    "    aes(x = 'cap_gains') + \n",
    "    geom_histogram()\n",
    ")"
   ]
  },
  {
   "attachments": {},
   "cell_type": "markdown",
   "metadata": {},
   "source": [
    "We drop the outliers (above 15000 in cap gains), and choose 5000 in capital gains as the cutoff point to make our binary dependent variable."
   ]
  },
  {
   "cell_type": "code",
   "execution_count": 856,
   "metadata": {},
   "outputs": [
    {
     "name": "stderr",
     "output_type": "stream",
     "text": [
      "C:\\Users\\mk255125\\AppData\\Roaming\\Python\\Python39\\site-packages\\plotnine\\stats\\stat_bin.py:95: PlotnineWarning: 'stat_bin()' using 'bins = 32'. Pick better value with 'binwidth'.\n"
     ]
    },
    {
     "data": {
      "image/png": "[encoded data removed]",
      "text/plain": [
       "<Figure size 640x480 with 1 Axes>"
      ]
     },
     "metadata": {},
     "output_type": "display_data"
    },
    {
     "data": {
      "text/plain": [
       "<ggplot: (135316663748)>"
      ]
     },
     "execution_count": 856,
     "metadata": {},
     "output_type": "execute_result"
    }
   ],
   "source": [
    "(\n",
    "    ggplot(merged[(merged.cap_gains < 15000) & (merged.cap_gains != 0)]) + \n",
    "    aes(x = 'cap_gains') + geom_histogram()\n",
    ")"
   ]
  },
  {
   "attachments": {},
   "cell_type": "markdown",
   "metadata": {},
   "source": [
    "Repeat the process for wage per hour."
   ]
  },
  {
   "cell_type": "code",
   "execution_count": 857,
   "metadata": {},
   "outputs": [
    {
     "name": "stderr",
     "output_type": "stream",
     "text": [
      "C:\\Users\\mk255125\\AppData\\Roaming\\Python\\Python39\\site-packages\\plotnine\\stats\\stat_bin.py:95: PlotnineWarning: 'stat_bin()' using 'bins = 207'. Pick better value with 'binwidth'.\n"
     ]
    },
    {
     "data": {
      "image/png": "[encoded data removed]",
      "text/plain": [
       "<Figure size 640x480 with 1 Axes>"
      ]
     },
     "metadata": {},
     "output_type": "display_data"
    },
    {
     "data": {
      "text/plain": [
       "<ggplot: (135325471290)>"
      ]
     },
     "execution_count": 857,
     "metadata": {},
     "output_type": "execute_result"
    }
   ],
   "source": [
    "(\n",
    "    ggplot(merged[merged.wage_hour != 0]) + \n",
    "    aes(x = 'wage_hour') + \n",
    "    geom_histogram()\n",
    ")"
   ]
  },
  {
   "cell_type": "code",
   "execution_count": 858,
   "metadata": {},
   "outputs": [
    {
     "data": {
      "text/plain": [
       "0       141593\n",
       "20           1\n",
       "70           1\n",
       "75           2\n",
       "100         11\n",
       "         ...  \n",
       "9000         1\n",
       "9400         2\n",
       "9800         2\n",
       "9916         1\n",
       "9999         1\n",
       "Name: wage_hour, Length: 1240, dtype: int64"
      ]
     },
     "execution_count": 858,
     "metadata": {},
     "output_type": "execute_result"
    }
   ],
   "source": [
    "learn.wage_hour.value_counts().sort_index()"
   ]
  },
  {
   "cell_type": "code",
   "execution_count": 859,
   "metadata": {},
   "outputs": [
    {
     "data": {
      "image/png": "[encoded data removed]",
      "text/plain": [
       "<Figure size 640x480 with 1 Axes>"
      ]
     },
     "metadata": {},
     "output_type": "display_data"
    },
    {
     "data": {
      "text/plain": [
       "<ggplot: (135577388599)>"
      ]
     },
     "execution_count": 859,
     "metadata": {},
     "output_type": "execute_result"
    }
   ],
   "source": [
    "(\n",
    "    ggplot(merged[(merged.wage_hour < 2500) & (merged.wage_hour > 0)]) + \n",
    "    aes(x = 'wage_hour') + \n",
    "    geom_histogram(bins = 150)\n",
    ")"
   ]
  },
  {
   "attachments": {},
   "cell_type": "markdown",
   "metadata": {},
   "source": [
    "We consider wages above 700 as one category, and below as another category"
   ]
  },
  {
   "cell_type": "code",
   "execution_count": 860,
   "metadata": {},
   "outputs": [],
   "source": [
    "merged['cap_gains_binary'] = np.where(merged['cap_gains'] > 5000, 1, 0)\n",
    "merged['wage_hour_binary'] = np.where(merged['wage_hour'] > 700, 1, 0)"
   ]
  },
  {
   "attachments": {},
   "cell_type": "markdown",
   "metadata": {},
   "source": [
    "Plot income with wage and capital gains as binary variables."
   ]
  },
  {
   "cell_type": "code",
   "execution_count": 861,
   "metadata": {},
   "outputs": [
    {
     "data": {
      "image/png": "[encoded data removed]",
      "text/plain": [
       "<Figure size 640x480 with 1 Axes>"
      ]
     },
     "metadata": {},
     "output_type": "display_data"
    },
    {
     "data": {
      "text/plain": [
       "<ggplot: (135577399336)>"
      ]
     },
     "execution_count": 861,
     "metadata": {},
     "output_type": "execute_result"
    }
   ],
   "source": [
    "(\n",
    "    ggplot(merged[merged['dep_var_binary'] == 0]) + \n",
    "    aes(x = 'wage_hour_binary') + \n",
    "    geom_bar() + \n",
    "    ggtitle('Below 50k')\n",
    ")"
   ]
  },
  {
   "cell_type": "code",
   "execution_count": 862,
   "metadata": {},
   "outputs": [
    {
     "data": {
      "image/png": "[encoded data removed]",
      "text/plain": [
       "<Figure size 640x480 with 1 Axes>"
      ]
     },
     "metadata": {},
     "output_type": "display_data"
    },
    {
     "data": {
      "text/plain": [
       "<ggplot: (135644847192)>"
      ]
     },
     "execution_count": 862,
     "metadata": {},
     "output_type": "execute_result"
    }
   ],
   "source": [
    "(\n",
    "    ggplot(merged[merged['dep_var_binary'] == 1]) + \n",
    "    aes(x = 'wage_hour_binary') + \n",
    "    geom_bar() + \n",
    "    ggtitle('Above 50k')\n",
    ")"
   ]
  },
  {
   "attachments": {},
   "cell_type": "markdown",
   "metadata": {},
   "source": [
    "Our wage categorization does not help us to determine whether high income individuals have high wages per hour, even though it is a fairly logical conclusion to make. "
   ]
  },
  {
   "cell_type": "code",
   "execution_count": 863,
   "metadata": {},
   "outputs": [
    {
     "data": {
      "image/png": "[encoded data removed]",
      "text/plain": [
       "<Figure size 640x480 with 1 Axes>"
      ]
     },
     "metadata": {},
     "output_type": "display_data"
    },
    {
     "data": {
      "text/plain": [
       "<ggplot: (135577535603)>"
      ]
     },
     "execution_count": 863,
     "metadata": {},
     "output_type": "execute_result"
    }
   ],
   "source": [
    "(\n",
    "    ggplot(merged[merged['dep_var_binary'] == 0]) + \n",
    "    aes(x = 'cap_gains_binary') + \n",
    "    geom_bar() + \n",
    "    ggtitle('Below 50k')\n",
    ")"
   ]
  },
  {
   "cell_type": "code",
   "execution_count": 864,
   "metadata": {},
   "outputs": [
    {
     "data": {
      "image/png": "[encoded data removed]",
      "text/plain": [
       "<Figure size 640x480 with 1 Axes>"
      ]
     },
     "metadata": {},
     "output_type": "display_data"
    },
    {
     "data": {
      "text/plain": [
       "<ggplot: (135538769535)>"
      ]
     },
     "execution_count": 864,
     "metadata": {},
     "output_type": "execute_result"
    }
   ],
   "source": [
    "(\n",
    "    ggplot(merged[merged['dep_var_binary'] == 1]) + \n",
    "    aes(x = 'cap_gains_binary') + \n",
    "    geom_bar() + \n",
    "    ggtitle('Above 50k')\n",
    ")"
   ]
  },
  {
   "attachments": {},
   "cell_type": "markdown",
   "metadata": {},
   "source": [
    "However, with capital gains, we see that high income individuals seem to have higher capital gains compared to low income individuals. "
   ]
  },
  {
   "attachments": {},
   "cell_type": "markdown",
   "metadata": {},
   "source": [
    "Additionally, we check if income is associated with company size (num persons employer). We convert it from a continuous to a categorical variable by using the associated questionnaire. "
   ]
  },
  {
   "cell_type": "code",
   "execution_count": 865,
   "metadata": {},
   "outputs": [
    {
     "data": {
      "text/plain": [
       "0    96992\n",
       "6    54586\n",
       "1    34526\n",
       "4    21387\n",
       "3    20209\n",
       "2    15126\n",
       "5     8947\n",
       "Name: num persons worked for employer, dtype: int64"
      ]
     },
     "execution_count": 865,
     "metadata": {},
     "output_type": "execute_result"
    }
   ],
   "source": [
    "merged['num persons worked for employer'].value_counts()"
   ]
  },
  {
   "cell_type": "code",
   "execution_count": 866,
   "metadata": {},
   "outputs": [],
   "source": [
    "merged['num_worked_employer_cat'] = np.where(merged['num persons worked for employer'] == 0, 'Not in universe',\n",
    "                                        np.where(merged['num persons worked for employer'] == 1, '< 10', \n",
    "                                        np.where(merged['num persons worked for employer'] == 2, '10-24',\n",
    "                                        np.where(merged['num persons worked for employer'] == 3, '25-99',\n",
    "                                        np.where(merged['num persons worked for employer'] == 4, '100-499',\n",
    "                                        np.where(merged['num persons worked for employer'] == 5, '500-999', '1000+')))))\n",
    ")"
   ]
  },
  {
   "cell_type": "code",
   "execution_count": 867,
   "metadata": {},
   "outputs": [
    {
     "data": {
      "image/png": "[encoded data removed]",
      "text/plain": [
       "<Figure size 640x480 with 1 Axes>"
      ]
     },
     "metadata": {},
     "output_type": "display_data"
    },
    {
     "data": {
      "text/plain": [
       "<ggplot: (135524441420)>"
      ]
     },
     "execution_count": 867,
     "metadata": {},
     "output_type": "execute_result"
    }
   ],
   "source": [
    "# Plot this variable across high and low income groups\n",
    "(\n",
    "    ggplot(merged[merged['dep_var_binary'] == 0]) + \n",
    "    aes(x = 'num_worked_employer_cat') + \n",
    "    geom_bar() + \n",
    "    ggtitle('Below 50k')\n",
    ")"
   ]
  },
  {
   "cell_type": "code",
   "execution_count": 868,
   "metadata": {},
   "outputs": [
    {
     "data": {
      "image/png": "[encoded data removed]",
      "text/plain": [
       "<Figure size 640x480 with 1 Axes>"
      ]
     },
     "metadata": {},
     "output_type": "display_data"
    },
    {
     "data": {
      "text/plain": [
       "<ggplot: (135316797609)>"
      ]
     },
     "execution_count": 868,
     "metadata": {},
     "output_type": "execute_result"
    }
   ],
   "source": [
    "(\n",
    "    ggplot(merged[merged['dep_var_binary'] == 1]) + \n",
    "    aes(x = 'num_worked_employer_cat') + \n",
    "    geom_bar() + \n",
    "    ggtitle('Above 50k')\n",
    ")"
   ]
  },
  {
   "attachments": {},
   "cell_type": "markdown",
   "metadata": {},
   "source": [
    "There seems to be a clear indication that people with high annual incomes work in large companies (> 1000 employees)."
   ]
  },
  {
   "attachments": {},
   "cell_type": "markdown",
   "metadata": {},
   "source": [
    "# Classification Models"
   ]
  },
  {
   "cell_type": "code",
   "execution_count": 869,
   "metadata": {},
   "outputs": [],
   "source": [
    "from sklearn import linear_model\n",
    "from sklearn.linear_model import LogisticRegression\n",
    "from sklearn.preprocessing import StandardScaler\n",
    "from sklearn.compose import ColumnTransformer\n"
   ]
  },
  {
   "attachments": {},
   "cell_type": "markdown",
   "metadata": {},
   "source": [
    "We use a number of techniques and compute the percentage accuracy between the predicted values and actual values. We split the training data into test and train sets, and compare the models to the validation dataset, which is provided as part of the assessment."
   ]
  },
  {
   "attachments": {},
   "cell_type": "markdown",
   "metadata": {},
   "source": [
    "We convert the continuous variables to log, so we can standardize the data. "
   ]
  },
  {
   "cell_type": "code",
   "execution_count": 870,
   "metadata": {},
   "outputs": [],
   "source": [
    "cont_vars = ['cap_gains', 'cap_loss', 'wage_hour', 'dividends']\n",
    "merged[cont_vars] = merged[cont_vars] + 1\n",
    "merged[cont_vars] = np.log(merged[cont_vars])"
   ]
  },
  {
   "cell_type": "code",
   "execution_count": 871,
   "metadata": {},
   "outputs": [],
   "source": [
    "train = merged[merged['from_learn'] == 'from_learn']\n",
    "test = merged[merged['from_test'] == 'from_test']"
   ]
  },
  {
   "cell_type": "code",
   "execution_count": 872,
   "metadata": {},
   "outputs": [],
   "source": [
    "X_train = train.drop(['from_test', 'from_learn', 'dep_var_binary', 'dep_var', 'weight'],axis=1)\n",
    "y_train = train['dep_var_binary'].values\n",
    "X_test  = test.drop(['from_test', 'from_learn', 'dep_var_binary', 'dep_var', 'weight'],axis=1)\n",
    "y_test  = test['dep_var_binary'].values"
   ]
  },
  {
   "cell_type": "code",
   "execution_count": 873,
   "metadata": {},
   "outputs": [],
   "source": [
    "object_cols = X_train.select_dtypes(include='object').columns\n",
    "dummies_train = pd.get_dummies(X_train[object_cols])\n",
    "dummies_test = pd.get_dummies(X_test[object_cols])\n",
    "X_train = pd.concat([X_train, dummies_train], axis=1)\n",
    "X_test = pd.concat([X_test, dummies_test], axis = 1)\n",
    "object_cols = object_cols[:-1]\n",
    "object_cols = X_train.select_dtypes(include='object').columns\n",
    "X_train = X_train.drop(object_cols, axis=1)\n",
    "X_test = X_test.drop(object_cols, axis=1)\n",
    "X_train.drop('detailed_hh_status_ Grandchild <18 ever marr not in subfamily', axis = 1, inplace=True)"
   ]
  },
  {
   "cell_type": "code",
   "execution_count": 874,
   "metadata": {},
   "outputs": [
    {
     "data": {
      "text/plain": [
       "LogisticRegression(random_state=42, solver='liblinear')"
      ]
     },
     "execution_count": 874,
     "metadata": {},
     "output_type": "execute_result"
    }
   ],
   "source": [
    "model_logistic_1 = LogisticRegression(class_weight=None,random_state=42, solver='liblinear')\n",
    "model_logistic_1.fit(X_train, y_train)"
   ]
  },
  {
   "cell_type": "code",
   "execution_count": 875,
   "metadata": {},
   "outputs": [],
   "source": [
    "from sklearn.metrics import accuracy_score, precision_score, recall_score, f1_score, roc_auc_score, average_precision_score"
   ]
  },
  {
   "cell_type": "code",
   "execution_count": 876,
   "metadata": {},
   "outputs": [
    {
     "name": "stdout",
     "output_type": "stream",
     "text": [
      "Accuracy: 0.9512631727988026\n",
      "Precision: 0.6972582972582972\n",
      "Recall: 0.39055932751374073\n",
      "F1 score: 0.5006735053362347\n",
      "AUC-ROC: 0.9446694127148236\n",
      "AUC-PR: 0.6073534725920378\n"
     ]
    }
   ],
   "source": [
    "y_pred = model_logistic_1.predict(X_test)\n",
    "acc = accuracy_score(y_test, y_pred)\n",
    "prec = precision_score(y_test, y_pred)\n",
    "rec = recall_score(y_test, y_pred)\n",
    "f1 = f1_score(y_test, y_pred)\n",
    "auc_roc = roc_auc_score(y_test, model_logistic_1.predict_proba(X_test)[:,1])\n",
    "auc_pr = average_precision_score(y_test, model_logistic_1.predict_proba(X_test)[:,1])\n",
    "\n",
    "# Print the results\n",
    "print(\"Accuracy:\", acc)\n",
    "print(\"Precision:\", prec)\n",
    "print(\"Recall:\", rec)\n",
    "print(\"F1 score:\", f1)\n",
    "print(\"AUC-ROC:\", auc_roc)\n",
    "print(\"AUC-PR:\", auc_pr)"
   ]
  },
  {
   "attachments": {},
   "cell_type": "markdown",
   "metadata": {},
   "source": [
    "As we have a much smaller number of 1's (high income individuals) in our data, we balance the data using weights."
   ]
  },
  {
   "cell_type": "code",
   "execution_count": 877,
   "metadata": {},
   "outputs": [
    {
     "name": "stdout",
     "output_type": "stream",
     "text": [
      "Accuracy: 0.876302109670503\n",
      "Precision: 0.31889268380370306\n",
      "Recall: 0.8603297769156159\n",
      "F1 score: 0.4653114754098361\n",
      "AUC-ROC: 0.9446694127148236\n",
      "AUC-PR: 0.6073534725920378\n"
     ]
    }
   ],
   "source": [
    "model_logistic_2 = LogisticRegression(class_weight='balanced', random_state=42,solver='liblinear')\n",
    "model_logistic_2.fit(X_train, y_train)\n",
    "y_pred = model_logistic_2.predict(X_test)\n",
    "acc = accuracy_score(y_test, y_pred)\n",
    "prec = precision_score(y_test, y_pred)\n",
    "rec = recall_score(y_test, y_pred)\n",
    "f1 = f1_score(y_test, y_pred)\n",
    "auc_roc = roc_auc_score(y_test, model_logistic_1.predict_proba(X_test)[:,1])\n",
    "auc_pr = average_precision_score(y_test, model_logistic_1.predict_proba(X_test)[:,1])\n",
    "\n",
    "# Print the results\n",
    "print(\"Accuracy:\", acc)\n",
    "print(\"Precision:\", prec)\n",
    "print(\"Recall:\", rec)\n",
    "print(\"F1 score:\", f1)\n",
    "print(\"AUC-ROC:\", auc_roc)\n",
    "print(\"AUC-PR:\", auc_pr)\n"
   ]
  },
  {
   "attachments": {},
   "cell_type": "markdown",
   "metadata": {},
   "source": [
    "# LASSO"
   ]
  },
  {
   "attachments": {},
   "cell_type": "markdown",
   "metadata": {},
   "source": [
    "We can improve the model by using L1 regularization to implement a LASSO (Least Absolute Squares Shrinkage Operator) to find an optimal model that uses only the most important features."
   ]
  },
  {
   "cell_type": "code",
   "execution_count": 878,
   "metadata": {},
   "outputs": [
    {
     "name": "stdout",
     "output_type": "stream",
     "text": [
      "Accuracy: 0.9511923784866199\n",
      "Precision: 0.6956271576524741\n",
      "Recall: 0.39088263821532493\n",
      "F1 score: 0.5005174912026497\n",
      "AUC-ROC: 0.9446694127148236\n",
      "AUC-PR: 0.6073534725920378\n"
     ]
    }
   ],
   "source": [
    "lasso_1 = LogisticRegression(penalty='l1', solver = 'liblinear', random_state=42)\n",
    "lasso_1.fit(X_train, y_train)\n",
    "\n",
    "y_pred = lasso_1.predict(X_test)\n",
    "acc = accuracy_score(y_test, y_pred)\n",
    "prec = precision_score(y_test, y_pred)\n",
    "rec = recall_score(y_test, y_pred)\n",
    "f1 = f1_score(y_test, y_pred)\n",
    "auc_roc = roc_auc_score(y_test, model_logistic_1.predict_proba(X_test)[:,1])\n",
    "auc_pr = average_precision_score(y_test, model_logistic_1.predict_proba(X_test)[:,1])\n",
    "\n",
    "# Print the results\n",
    "print(\"Accuracy:\", acc)\n",
    "print(\"Precision:\", prec)\n",
    "print(\"Recall:\", rec)\n",
    "print(\"F1 score:\", f1)\n",
    "print(\"AUC-ROC:\", auc_roc)\n",
    "print(\"AUC-PR:\", auc_pr)\n"
   ]
  },
  {
   "cell_type": "code",
   "execution_count": 879,
   "metadata": {},
   "outputs": [],
   "source": [
    "feature_importance = abs(lasso_1.coef_[0])\n",
    "\n",
    "# create a dataframe with the feature names and their importance values\n",
    "features = X_train.columns\n",
    "importance = pd.DataFrame(list(zip(features, feature_importance)), columns=['Feature', 'Importance'])\n",
    "importance = importance.sort_values(by='Importance', ascending=False)\n"
   ]
  },
  {
   "cell_type": "code",
   "execution_count": 880,
   "metadata": {},
   "outputs": [
    {
     "data": {
      "text/html": [
       "<div>\n",
       "<style scoped>\n",
       "    .dataframe tbody tr th:only-of-type {\n",
       "        vertical-align: middle;\n",
       "    }\n",
       "\n",
       "    .dataframe tbody tr th {\n",
       "        vertical-align: top;\n",
       "    }\n",
       "\n",
       "    .dataframe thead th {\n",
       "        text-align: right;\n",
       "    }\n",
       "</style>\n",
       "<table border=\"1\" class=\"dataframe\">\n",
       "  <thead>\n",
       "    <tr style=\"text-align: right;\">\n",
       "      <th></th>\n",
       "      <th>Feature</th>\n",
       "      <th>Importance</th>\n",
       "    </tr>\n",
       "  </thead>\n",
       "  <tbody>\n",
       "    <tr>\n",
       "      <th>39</th>\n",
       "      <td>education_ Prof school degree (MD DDS DVM LLB JD)</td>\n",
       "      <td>2.334782</td>\n",
       "    </tr>\n",
       "    <tr>\n",
       "      <th>35</th>\n",
       "      <td>education_ Doctorate degree(PhD EdD)</td>\n",
       "      <td>2.332989</td>\n",
       "    </tr>\n",
       "    <tr>\n",
       "      <th>13</th>\n",
       "      <td>cap_gains_binary</td>\n",
       "      <td>2.106301</td>\n",
       "    </tr>\n",
       "    <tr>\n",
       "      <th>52</th>\n",
       "      <td>maj_industry_ Armed Forces</td>\n",
       "      <td>2.054268</td>\n",
       "    </tr>\n",
       "    <tr>\n",
       "      <th>18</th>\n",
       "      <td>class_worker_ Not in universe</td>\n",
       "      <td>2.010782</td>\n",
       "    </tr>\n",
       "    <tr>\n",
       "      <th>77</th>\n",
       "      <td>maj_occupation_ Executive admin and managerial</td>\n",
       "      <td>1.770902</td>\n",
       "    </tr>\n",
       "    <tr>\n",
       "      <th>78</th>\n",
       "      <td>maj_occupation_ Farming forestry and fishing</td>\n",
       "      <td>1.629000</td>\n",
       "    </tr>\n",
       "    <tr>\n",
       "      <th>38</th>\n",
       "      <td>education_ Masters degree(MA MS MEng MEd MSW MBA)</td>\n",
       "      <td>1.521699</td>\n",
       "    </tr>\n",
       "    <tr>\n",
       "      <th>128</th>\n",
       "      <td>tax_filer_status_ Nonfiler</td>\n",
       "      <td>1.494040</td>\n",
       "    </tr>\n",
       "    <tr>\n",
       "      <th>394</th>\n",
       "      <td>self_birthplace_ Scotland</td>\n",
       "      <td>1.482844</td>\n",
       "    </tr>\n",
       "    <tr>\n",
       "      <th>85</th>\n",
       "      <td>maj_occupation_ Professional specialty</td>\n",
       "      <td>1.421053</td>\n",
       "    </tr>\n",
       "    <tr>\n",
       "      <th>222</th>\n",
       "      <td>detailed_hh_status_ Spouse of RP of unrelated ...</td>\n",
       "      <td>1.344931</td>\n",
       "    </tr>\n",
       "    <tr>\n",
       "      <th>76</th>\n",
       "      <td>maj_occupation_ Armed Forces</td>\n",
       "      <td>1.333589</td>\n",
       "    </tr>\n",
       "    <tr>\n",
       "      <th>88</th>\n",
       "      <td>maj_occupation_ Technicians and related support</td>\n",
       "      <td>1.252587</td>\n",
       "    </tr>\n",
       "    <tr>\n",
       "      <th>281</th>\n",
       "      <td>father_birthplace_ El-Salvador</td>\n",
       "      <td>1.112316</td>\n",
       "    </tr>\n",
       "  </tbody>\n",
       "</table>\n",
       "</div>"
      ],
      "text/plain": [
       "                                               Feature  Importance\n",
       "39   education_ Prof school degree (MD DDS DVM LLB JD)    2.334782\n",
       "35                education_ Doctorate degree(PhD EdD)    2.332989\n",
       "13                                    cap_gains_binary    2.106301\n",
       "52                          maj_industry_ Armed Forces    2.054268\n",
       "18                       class_worker_ Not in universe    2.010782\n",
       "77      maj_occupation_ Executive admin and managerial    1.770902\n",
       "78        maj_occupation_ Farming forestry and fishing    1.629000\n",
       "38   education_ Masters degree(MA MS MEng MEd MSW MBA)    1.521699\n",
       "128                         tax_filer_status_ Nonfiler    1.494040\n",
       "394                          self_birthplace_ Scotland    1.482844\n",
       "85              maj_occupation_ Professional specialty    1.421053\n",
       "222  detailed_hh_status_ Spouse of RP of unrelated ...    1.344931\n",
       "76                        maj_occupation_ Armed Forces    1.333589\n",
       "88     maj_occupation_ Technicians and related support    1.252587\n",
       "281                     father_birthplace_ El-Salvador    1.112316"
      ]
     },
     "execution_count": 880,
     "metadata": {},
     "output_type": "execute_result"
    }
   ],
   "source": [
    "importance.head(n = 15)"
   ]
  },
  {
   "attachments": {},
   "cell_type": "markdown",
   "metadata": {},
   "source": [
    "There are some conclusions that are valid from these results, while some results do not make total sense. However, it can be concluded that education (having a professional degree), capital gains, being in an executive occupation, would lead to higher incomes on average. However, age (which had shown in the EDA to be associated with income) did not show up in the results of the logistic regression model. Therefore, some additional tuning of the model, or a different algorithm altogether may be required."
   ]
  },
  {
   "attachments": {},
   "cell_type": "markdown",
   "metadata": {},
   "source": [
    "# Conclusion"
   ]
  },
  {
   "attachments": {},
   "cell_type": "markdown",
   "metadata": {},
   "source": [
    "The purpose of this exercise was to find the association between the given variables and income, therefore it was an exploratory exercise and not one where prediction accuracy was the main goal. Since explainability and model inference are important in EDA, more sophisticated but harder to interpret algorithms, such as SVMs and neural nets, are avoided."
   ]
  },
  {
   "attachments": {},
   "cell_type": "markdown",
   "metadata": {},
   "source": [
    "The data had some duplicates which needed to be removed. "
   ]
  },
  {
   "attachments": {},
   "cell_type": "markdown",
   "metadata": {},
   "source": [
    "There were also several variables which had a high number of zeroes: we converted those variables to binary features."
   ]
  },
  {
   "attachments": {},
   "cell_type": "markdown",
   "metadata": {},
   "source": [
    "The dependent variable suffered from class imbalance, so we used weights during the application of the logistic regression. "
   ]
  },
  {
   "attachments": {},
   "cell_type": "markdown",
   "metadata": {},
   "source": [
    "The most important features were: education, type of occupation, industry, capital gains, size of company and weeks worked."
   ]
  },
  {
   "attachments": {},
   "cell_type": "markdown",
   "metadata": {},
   "source": [
    "We could improve our overall analysis by using a wider array of algorithms (such as k-means, nearest neighbor matching or random forest) and by testing for multicollinearity, heteroskedasticity, and endogeneity issues in the models."
   ]
  }
 ],
 "metadata": {
  "kernelspec": {
   "display_name": "base",
   "language": "python",
   "name": "python3"
  },
  "language_info": {
   "codemirror_mode": {
    "name": "ipython",
    "version": 3
   },
   "file_extension": ".py",
   "mimetype": "text/x-python",
   "name": "python",
   "nbconvert_exporter": "python",
   "pygments_lexer": "ipython3",
   "version": "3.9.12"
  },
  "orig_nbformat": 4,
  "vscode": {
   "interpreter": {
    "hash": "ad2bdc8ecc057115af97d19610ffacc2b4e99fae6737bb82f5d7fb13d2f2c186"
   }
  }
 },
 "nbformat": 4,
 "nbformat_minor": 2
}
